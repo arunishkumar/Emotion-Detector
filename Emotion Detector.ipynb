{
 "cells": [
  {
   "cell_type": "code",
   "execution_count": 1,
   "metadata": {},
   "outputs": [
    {
     "name": "stderr",
     "output_type": "stream",
     "text": [
      "Using TensorFlow backend.\n"
     ]
    }
   ],
   "source": [
    "import numpy as np\n",
    "from keras import layers\n",
    "from keras.layers import Input,Dense,Activation,ZeroPadding2D,BatchNormalization,Flatten,Conv2D\n",
    "from keras.layers import AveragePooling2D,MaxPooling2D,Dropout,GlobalMaxPooling2D,GlobalAveragePooling2D\n",
    "from keras.models import Model\n",
    "from keras.preprocessing import image\n",
    "from keras.utils import layer_utils\n",
    "from keras.utils.data_utils import get_file\n",
    "from keras.applications.imagenet_utils import preprocess_input\n",
    "import pydot\n",
    "from IPython.display import SVG\n",
    "from keras.utils.vis_utils import model_to_dot\n",
    "from keras.utils import plot_model\n",
    "from EmotionDetector_utils import *\n",
    "\n",
    "import keras.backend as K\n",
    "K.set_image_data_format('channels_first')\n",
    "import matplotlib.pyplot as plt\n",
    "from matplotlib.pyplot import imshow\n",
    "%matplotlib inline"
   ]
  },
  {
   "cell_type": "code",
   "execution_count": 2,
   "metadata": {},
   "outputs": [],
   "source": [
    "X_train_orig,Y_train_orig,X_test_orig,Y_test_orig,classes=load_dataset()\n",
    "X_train=X_train_orig/255\n",
    "X_test=X_test_orig/255\n",
    "Y_train=Y_train_orig.T\n",
    "Y_test=Y_test_orig.T"
   ]
  },
  {
   "cell_type": "code",
   "execution_count": 13,
   "metadata": {},
   "outputs": [
    {
     "name": "stdout",
     "output_type": "stream",
     "text": [
      "Epoch 1/20\n",
      "600/600 [==============================] - 3s 6ms/step - loss: 0.7117 - accuracy: 0.5783\n",
      "Epoch 2/20\n",
      "600/600 [==============================] - 3s 5ms/step - loss: 0.6335 - accuracy: 0.6367\n",
      "Epoch 3/20\n",
      "600/600 [==============================] - 3s 5ms/step - loss: 0.5518 - accuracy: 0.7167\n",
      "Epoch 4/20\n",
      "600/600 [==============================] - 3s 5ms/step - loss: 0.3948 - accuracy: 0.8300\n",
      "Epoch 5/20\n",
      "600/600 [==============================] - 3s 5ms/step - loss: 0.2616 - accuracy: 0.9200\n",
      "Epoch 6/20\n",
      "600/600 [==============================] - 3s 5ms/step - loss: 0.1997 - accuracy: 0.9317\n",
      "Epoch 7/20\n",
      "600/600 [==============================] - 3s 5ms/step - loss: 0.1663 - accuracy: 0.9500\n",
      "Epoch 8/20\n",
      "600/600 [==============================] - 3s 5ms/step - loss: 0.1413 - accuracy: 0.9550\n",
      "Epoch 9/20\n",
      "600/600 [==============================] - 3s 5ms/step - loss: 0.1325 - accuracy: 0.9650\n",
      "Epoch 10/20\n",
      "600/600 [==============================] - 3s 5ms/step - loss: 0.1127 - accuracy: 0.9750\n",
      "Epoch 11/20\n",
      "600/600 [==============================] - 3s 5ms/step - loss: 0.1000 - accuracy: 0.9600\n",
      "Epoch 12/20\n",
      "600/600 [==============================] - 3s 5ms/step - loss: 0.1049 - accuracy: 0.9700\n",
      "Epoch 13/20\n",
      "600/600 [==============================] - 3s 5ms/step - loss: 0.0779 - accuracy: 0.9850\n",
      "Epoch 14/20\n",
      "600/600 [==============================] - 3s 5ms/step - loss: 0.0773 - accuracy: 0.9800\n",
      "Epoch 15/20\n",
      "600/600 [==============================] - 3s 5ms/step - loss: 0.0909 - accuracy: 0.9800\n",
      "Epoch 16/20\n",
      "600/600 [==============================] - 3s 5ms/step - loss: 0.0600 - accuracy: 0.9833\n",
      "Epoch 17/20\n",
      "600/600 [==============================] - 3s 5ms/step - loss: 0.0664 - accuracy: 0.9817\n",
      "Epoch 18/20\n",
      "600/600 [==============================] - 3s 5ms/step - loss: 0.0608 - accuracy: 0.9867\n",
      "Epoch 19/20\n",
      "600/600 [==============================] - 3s 5ms/step - loss: 0.0638 - accuracy: 0.9850\n",
      "Epoch 20/20\n",
      "600/600 [==============================] - 3s 6ms/step - loss: 0.0825 - accuracy: 0.9750\n",
      "150/150 [==============================] - 0s 3ms/step\n",
      "Test_accuracy0.95333331823349\n"
     ]
    }
   ],
   "source": [
    "def HappyModel(input_shape):\n",
    "    X_input=Input(input_shape)\n",
    "    X=ZeroPadding2D((3,3))(X_input)\n",
    "    X=Conv2D(32,(7,7),strides=(1,1),name='conv0')(X)\n",
    "    X=BatchNormalization(axis=3,name='bn0')(X)\n",
    "    X=Activation('relu')(X)\n",
    "    X=MaxPooling2D((2,2),name='max_pool')(X)\n",
    "    X=Flatten()(X)\n",
    "    X=Dense(1,activation='sigmoid',name='fc')(X)\n",
    "    model=Model(inputs=X_input,outputs=X,name='HappyModel')\n",
    "    return model\n",
    "\n",
    "happymodel=HappyModel(X_train.shape[1:])\n",
    "happymodel.compile(optimizer='adam',loss='binary_crossentropy',metrics=['accuracy'])\n",
    "happymodel.fit(x=X_train,y=Y_train,epochs=20,batch_size=16)\n",
    "preds=happymodel.evaluate(x=X_test,y=Y_test)\n",
    "test_accuracy=print(\"Test_accuracy\"+str(preds[1]))"
   ]
  },
  {
   "cell_type": "code",
   "execution_count": null,
   "metadata": {},
   "outputs": [],
   "source": []
  }
 ],
 "metadata": {
  "kernelspec": {
   "display_name": "Python 3",
   "language": "python",
   "name": "python3"
  },
  "language_info": {
   "codemirror_mode": {
    "name": "ipython",
    "version": 3
   },
   "file_extension": ".py",
   "mimetype": "text/x-python",
   "name": "python",
   "nbconvert_exporter": "python",
   "pygments_lexer": "ipython3",
   "version": "3.6.5"
  }
 },
 "nbformat": 4,
 "nbformat_minor": 2
}
